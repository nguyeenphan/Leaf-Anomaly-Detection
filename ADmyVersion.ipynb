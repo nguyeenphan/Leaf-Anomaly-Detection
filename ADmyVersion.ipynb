{
 "cells": [
  {
   "cell_type": "code",
   "execution_count": 1,
   "metadata": {},
   "outputs": [],
   "source": [
    "import torch\n",
    "import torch.nn as nn\n",
    "import torch.optim as optim\n",
    "import torchvision\n",
    "from torchvision import datasets, transforms\n",
    "import matplotlib.pyplot as plt\n",
    "import os\n",
    "import re\n",
    "from PIL import Image\n",
    "from sklearn.manifold import TSNE\n",
    "import numpy as np\n",
    "from pytorch_msssim import SSIM\n"
   ]
  },
  {
   "cell_type": "code",
   "execution_count": 16,
   "metadata": {},
   "outputs": [
    {
     "data": {
      "text/plain": [
       "device(type='cpu')"
      ]
     },
     "execution_count": 16,
     "metadata": {},
     "output_type": "execute_result"
    }
   ],
   "source": [
    "device = torch.device(\"cuda:0\" if torch.cuda.is_available() else \"cpu\")\n",
    "device"
   ]
  },
  {
   "cell_type": "code",
   "execution_count": 17,
   "metadata": {},
   "outputs": [],
   "source": [
    "train_path = \"/Users/nguyenphan/Developer/Leaf-Anomaly-Detection/new-plant-diseases-dataset/New Plant Diseases Dataset(Augmented)/New Plant Diseases Dataset(Augmented)/train\"\n",
    "#train_path = \"/Users/nguyenphan/Developer/Leaf-Anomaly-Detection/grape-only-dataset/train\""
   ]
  },
  {
   "cell_type": "code",
   "execution_count": 4,
   "metadata": {},
   "outputs": [],
   "source": [
    "def get_label(name):\n",
    "  label = 0\n",
    "  if bool(re.match('Grape___E.+', name)):\n",
    "    label = 1\n",
    "  elif bool(re.match('Grape___L.+', name)):\n",
    "    label = 2\n",
    "  elif bool(re.match('Grape___h.+', name)):\n",
    "    label = 3\n",
    "  return label"
   ]
  },
  {
   "cell_type": "code",
   "execution_count": 18,
   "metadata": {},
   "outputs": [
    {
     "name": "stdout",
     "output_type": "stream",
     "text": [
      "7222\n"
     ]
    },
    {
     "data": {
      "text/plain": [
       "False"
      ]
     },
     "execution_count": 18,
     "metadata": {},
     "output_type": "execute_result"
    }
   ],
   "source": [
    "convert_tensor = transforms.ToTensor()\n",
    "train_data = []\n",
    "for root, dirs, files in os.walk(train_path):\n",
    "  class_name = root.split('/')[-1]\n",
    "  if bool(re.match('Grape.+', class_name)):\n",
    "    for file in files:\n",
    "      path = os.path.join(root, file)\n",
    "      img = Image.open(path)\n",
    "      tensor_img = convert_tensor(img)\n",
    "      tensor_img = tensor_img.to(device)\n",
    "      label = get_label(class_name)\n",
    "      train_data.append([tensor_img, label])\n",
    "\n",
    "print(len(train_data))\n",
    "\n",
    "train_data[0][0].is_cuda"
   ]
  },
  {
   "cell_type": "code",
   "execution_count": 19,
   "metadata": {},
   "outputs": [],
   "source": [
    "# class Autoencoder(nn.Module):\n",
    "#   def __init__(self):\n",
    "#     super().__init__()\n",
    "#     self.encoder = nn.Sequential(\n",
    "#         nn.Conv2d(3, 16, kernel_size=7, stride=2, padding=1),\n",
    "#         nn.ReLU(),\n",
    "#         nn.Conv2d(16, 32, kernel_size=7, stride=2, padding=1),\n",
    "#         nn.ReLU(),\n",
    "#         nn.Conv2d(32, 64, kernel_size=7, stride=2, padding=1),\n",
    "#         nn.ReLU(),\n",
    "#         nn.Conv2d(64, 128, kernel_size=5)\n",
    "#     )\n",
    "\n",
    "#     self.decoder = nn.Sequential(\n",
    "#         nn.ConvTranspose2d(128, 64, kernel_size=5),\n",
    "#         nn.ReLU(),\n",
    "#         nn.ConvTranspose2d(64, 32, kernel_size=7, stride=2, padding=1),\n",
    "#         nn.ReLU(),\n",
    "#         nn.ConvTranspose2d(32, 16, kernel_size=7, stride=2, padding=1, output_padding=1),\n",
    "#         nn.ReLU(),\n",
    "#         nn.ConvTranspose2d(16, 3, kernel_size=7, stride=2, padding=1, output_padding=1),\n",
    "#         nn.Sigmoid() # As we saw that the input tensors are between 0 and 1 so we should use an activation function to map our values to that range.\n",
    "#     )\n",
    "    \n",
    "#   def forward(self, x):\n",
    "#     encoded = self.encoder(x)\n",
    "#     decoded = self.decoder(encoded)\n",
    "#     return decoded\n",
    "  \n",
    "# BatchNorm2d improving training stability and convergence.\n",
    "class Autoencoder(nn.Module):\n",
    "    def __init__(self):\n",
    "        super().__init__()\n",
    "        self.encoder = nn.Sequential(\n",
    "            nn.Conv2d(3, 16, kernel_size=7, stride=2, padding=1),\n",
    "            nn.BatchNorm2d(16),\n",
    "            nn.ReLU(),\n",
    "            nn.Conv2d(16, 32, kernel_size=7, stride=2, padding=1),\n",
    "            nn.BatchNorm2d(32),\n",
    "            nn.ReLU(),\n",
    "            nn.Conv2d(32, 64, kernel_size=7, stride=2, padding=1),\n",
    "            nn.BatchNorm2d(64),\n",
    "            nn.ReLU(),\n",
    "            nn.Conv2d(64, 128, kernel_size=5),\n",
    "            nn.BatchNorm2d(128),\n",
    "            nn.ReLU(),\n",
    "        )\n",
    "        self.decoder = nn.Sequential(\n",
    "            nn.ConvTranspose2d(128, 64, kernel_size=5),\n",
    "            nn.BatchNorm2d(64),\n",
    "            nn.ReLU(),\n",
    "            nn.ConvTranspose2d(64, 32, kernel_size=7, stride=2, padding=1),\n",
    "            nn.BatchNorm2d(32),\n",
    "            nn.ReLU(),\n",
    "            nn.ConvTranspose2d(32, 16, kernel_size=7, stride=2, padding=1, output_padding=1),\n",
    "            nn.BatchNorm2d(16),\n",
    "            nn.ReLU(),\n",
    "            nn.ConvTranspose2d(16, 3, kernel_size=7, stride=2, padding=1, output_padding=1),\n",
    "            nn.Sigmoid()  # Output in [0, 1] to match input range\n",
    "        )\n",
    "    \n",
    "    def forward(self, x):\n",
    "        encoded = self.encoder(x)\n",
    "        decoded = self.decoder(encoded)\n",
    "        return decoded"
   ]
  },
  {
   "cell_type": "code",
   "execution_count": 20,
   "metadata": {},
   "outputs": [],
   "source": [
    "#Loss function\n",
    "class SSIMLoss(nn.Module):\n",
    "    def __init__(self):\n",
    "        super().__init__()\n",
    "        self.ssim_module = SSIM(data_range=1.0, size_average=True, channel=3)\n",
    "    \n",
    "    def forward(self, y_pred, y_true):\n",
    "        return 1 - self.ssim_module(y_pred, y_true)"
   ]
  },
  {
   "cell_type": "code",
   "execution_count": 21,
   "metadata": {},
   "outputs": [],
   "source": [
    "model = Autoencoder().to(device)\n",
    "criterion = SSIMLoss()\n",
    "optimizer = optim.Adam(model.parameters(), lr=1e-3, weight_decay=1e-5)\n",
    "checkpoint_path = \"/Users/nguyenphan/Developer/Leaf-Anomaly-Detection/checkpoint.pth\"\n",
    "train_loader = torch.utils.data.DataLoader(\n",
    "    dataset= train_data,\n",
    "    batch_size=16\n",
    ")"
   ]
  },
  {
   "cell_type": "code",
   "execution_count": 22,
   "metadata": {},
   "outputs": [],
   "source": [
    "import os\n",
    "checkpoint_path = \"/Users/nguyenphan/Developer/Leaf-Anomaly-Detection/checkpoint.pth\"\n",
    "if os.path.exists(checkpoint_path):\n",
    "    os.remove(checkpoint_path)\n",
    "    print(\"Corrupted checkpoint removed.\")"
   ]
  },
  {
   "cell_type": "code",
   "execution_count": 23,
   "metadata": {},
   "outputs": [],
   "source": [
    "def train_model(model, criterion, optimizer, train_loader, num_epochs, device,\n",
    "                checkpoint_path = '/Users/nguyenphan/Developer/Leaf-Anomaly-Detection/checkpoint.pth'):\n",
    "    start_epoch = 0\n",
    "    prev_loss = 0.0\n",
    "    \n",
    "    if os.path.exists(checkpoint_path):\n",
    "        checkpoint = torch.load(checkpoint_path, map_location=device)\n",
    "        model.load_state_dict(checkpoint['model_state_dict'])\n",
    "        optimizer.load_state_dict(checkpoint['optimizer_state_dict'])\n",
    "        start_epoch = checkpoint['epoch'] + 1\n",
    "        prev_loss = checkpoint['loss']\n",
    "        print(f\"Resuming training from epoch {start_epoch}, previous loss: {prev_loss:.4f}\")\n",
    "    else:\n",
    "        print(\"Starting training from scratch\")\n",
    "        \n",
    "    try:\n",
    "        for epoch in range(start_epoch, num_epochs):\n",
    "            for (img, _) in train_loader:\n",
    "                output = model(img)\n",
    "                loss = criterion(output, img)\n",
    "                \n",
    "                optimizer.zero_grad()\n",
    "                loss.backward()\n",
    "                optimizer.step()\n",
    "            \n",
    "            print(f'Epoch [{epoch+1}/{num_epochs}], Loss: {loss.item():.4f}')\n",
    "            \n",
    "            torch.save({\n",
    "                'epoch': epoch,\n",
    "                'model_state_dict': model.state_dict(),\n",
    "                'optimizer_state_dict': optimizer.state_dict(),\n",
    "                'loss': loss.item()\n",
    "            }, checkpoint_path)\n",
    "    \n",
    "    except KeyboardInterrupt:\n",
    "        print(\"Training interrupted, saving checkpoint...\")\n",
    "        torch.save({\n",
    "            'epoch': epoch,\n",
    "            'model_state_dict': model.state_dict(),\n",
    "            'optimizer_state_dict': optimizer.state_dict(),\n",
    "            'loss': loss.item()\n",
    "        }, checkpoint_path)\n",
    "        print(f\"Checkpoint saved at {checkpoint_path}\")\n",
    "        return\n",
    "    \n",
    "    torch.save(model.state_dict(), 'autoencoder_final.pth')\n",
    "    print(\"Training completed, final model saved as 'autoencoder_final.pth'\")"
   ]
  },
  {
   "cell_type": "code",
   "execution_count": 26,
   "metadata": {},
   "outputs": [
    {
     "name": "stdout",
     "output_type": "stream",
     "text": [
      "Resuming training from epoch 59, previous loss: 0.1791\n",
      "Epoch [60/1000], Loss: 0.2096\n",
      "Epoch [61/1000], Loss: 0.2088\n",
      "Epoch [62/1000], Loss: 0.2084\n",
      "Epoch [63/1000], Loss: 0.2071\n",
      "Epoch [64/1000], Loss: 0.2066\n",
      "Epoch [65/1000], Loss: 0.2064\n",
      "Epoch [66/1000], Loss: 0.2063\n",
      "Epoch [67/1000], Loss: 0.2056\n",
      "Epoch [68/1000], Loss: 0.2051\n",
      "Epoch [69/1000], Loss: 0.2046\n",
      "Epoch [70/1000], Loss: 0.2042\n",
      "Epoch [71/1000], Loss: 0.2041\n",
      "Epoch [72/1000], Loss: 0.2037\n",
      "Epoch [73/1000], Loss: 0.2034\n",
      "Epoch [74/1000], Loss: 0.2031\n",
      "Epoch [75/1000], Loss: 0.2028\n",
      "Epoch [76/1000], Loss: 0.2022\n",
      "Epoch [77/1000], Loss: 0.2017\n",
      "Epoch [78/1000], Loss: 0.2018\n",
      "Epoch [79/1000], Loss: 0.2013\n",
      "Epoch [80/1000], Loss: 0.2011\n",
      "Epoch [81/1000], Loss: 0.2014\n",
      "Epoch [82/1000], Loss: 0.2008\n",
      "Epoch [83/1000], Loss: 0.2008\n",
      "Epoch [84/1000], Loss: 0.2003\n",
      "Epoch [85/1000], Loss: 0.2002\n",
      "Epoch [86/1000], Loss: 0.2001\n",
      "Epoch [87/1000], Loss: 0.2001\n",
      "Epoch [88/1000], Loss: 0.1995\n",
      "Epoch [89/1000], Loss: 0.1995\n",
      "Epoch [90/1000], Loss: 0.1989\n",
      "Epoch [91/1000], Loss: 0.1989\n",
      "Epoch [92/1000], Loss: 0.1989\n",
      "Epoch [93/1000], Loss: 0.1998\n",
      "Epoch [94/1000], Loss: 0.1987\n",
      "Epoch [95/1000], Loss: 0.1984\n",
      "Epoch [96/1000], Loss: 0.1984\n",
      "Epoch [97/1000], Loss: 0.1983\n",
      "Epoch [98/1000], Loss: 0.1983\n",
      "Epoch [99/1000], Loss: 0.1983\n",
      "Epoch [100/1000], Loss: 0.1980\n",
      "Training interrupted, saving checkpoint...\n",
      "Checkpoint saved at /Users/nguyenphan/Developer/Leaf-Anomaly-Detection/checkpoint.pth\n"
     ]
    }
   ],
   "source": [
    "num_epochs = 1000\n",
    "train_model(model, criterion, optimizer, train_loader, num_epochs, device)"
   ]
  }
 ],
 "metadata": {
  "kernelspec": {
   "display_name": "Python 3",
   "language": "python",
   "name": "python3"
  },
  "language_info": {
   "codemirror_mode": {
    "name": "ipython",
    "version": 3
   },
   "file_extension": ".py",
   "mimetype": "text/x-python",
   "name": "python",
   "nbconvert_exporter": "python",
   "pygments_lexer": "ipython3",
   "version": "3.13.2"
  }
 },
 "nbformat": 4,
 "nbformat_minor": 2
}
